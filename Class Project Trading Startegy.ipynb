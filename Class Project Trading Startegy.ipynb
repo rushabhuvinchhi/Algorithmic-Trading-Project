{
 "cells": [
  {
   "cell_type": "code",
   "execution_count": 1,
   "metadata": {},
   "outputs": [],
   "source": [
    "import pandas as pd\n",
    "import numpy as np\n",
    "\n",
    "\n",
    "data = pd.read_csv(\"/home/vinchhi/Documents/ieorclassproject7/EUR_USD_Week1.csv\", header = 0)"
   ]
  },
  {
   "cell_type": "code",
   "execution_count": 2,
   "metadata": {},
   "outputs": [
    {
     "data": {
      "text/html": [
       "<div>\n",
       "<style scoped>\n",
       "    .dataframe tbody tr th:only-of-type {\n",
       "        vertical-align: middle;\n",
       "    }\n",
       "\n",
       "    .dataframe tbody tr th {\n",
       "        vertical-align: top;\n",
       "    }\n",
       "\n",
       "    .dataframe thead th {\n",
       "        text-align: right;\n",
       "    }\n",
       "</style>\n",
       "<table border=\"1\" class=\"dataframe\">\n",
       "  <thead>\n",
       "    <tr style=\"text-align: right;\">\n",
       "      <th></th>\n",
       "      <th>lTid</th>\n",
       "      <th>cDealable</th>\n",
       "      <th>CurrencyPair</th>\n",
       "      <th>RateDateTime</th>\n",
       "      <th>RateBid</th>\n",
       "      <th>RateAsk</th>\n",
       "    </tr>\n",
       "  </thead>\n",
       "  <tbody>\n",
       "    <tr>\n",
       "      <td>0</td>\n",
       "      <td>6888383605</td>\n",
       "      <td>D</td>\n",
       "      <td>EUR/USD</td>\n",
       "      <td>2018-09-02 17:00:08.910000000</td>\n",
       "      <td>1.15950</td>\n",
       "      <td>1.15980</td>\n",
       "    </tr>\n",
       "    <tr>\n",
       "      <td>1</td>\n",
       "      <td>6888383648</td>\n",
       "      <td>D</td>\n",
       "      <td>EUR/USD</td>\n",
       "      <td>2018-09-02 17:00:51.910000000</td>\n",
       "      <td>1.15951</td>\n",
       "      <td>1.15980</td>\n",
       "    </tr>\n",
       "    <tr>\n",
       "      <td>2</td>\n",
       "      <td>6888383651</td>\n",
       "      <td>D</td>\n",
       "      <td>EUR/USD</td>\n",
       "      <td>2018-09-02 17:00:52.160000000</td>\n",
       "      <td>1.15951</td>\n",
       "      <td>1.16000</td>\n",
       "    </tr>\n",
       "    <tr>\n",
       "      <td>3</td>\n",
       "      <td>6888383682</td>\n",
       "      <td>D</td>\n",
       "      <td>EUR/USD</td>\n",
       "      <td>2018-09-02 17:01:03.410000000</td>\n",
       "      <td>1.15951</td>\n",
       "      <td>1.15991</td>\n",
       "    </tr>\n",
       "    <tr>\n",
       "      <td>4</td>\n",
       "      <td>6888383689</td>\n",
       "      <td>D</td>\n",
       "      <td>EUR/USD</td>\n",
       "      <td>2018-09-02 17:01:04.160000000</td>\n",
       "      <td>1.15951</td>\n",
       "      <td>1.15990</td>\n",
       "    </tr>\n",
       "  </tbody>\n",
       "</table>\n",
       "</div>"
      ],
      "text/plain": [
       "         lTid cDealable CurrencyPair                   RateDateTime  RateBid  \\\n",
       "0  6888383605         D      EUR/USD  2018-09-02 17:00:08.910000000  1.15950   \n",
       "1  6888383648         D      EUR/USD  2018-09-02 17:00:51.910000000  1.15951   \n",
       "2  6888383651         D      EUR/USD  2018-09-02 17:00:52.160000000  1.15951   \n",
       "3  6888383682         D      EUR/USD  2018-09-02 17:01:03.410000000  1.15951   \n",
       "4  6888383689         D      EUR/USD  2018-09-02 17:01:04.160000000  1.15951   \n",
       "\n",
       "   RateAsk  \n",
       "0  1.15980  \n",
       "1  1.15980  \n",
       "2  1.16000  \n",
       "3  1.15991  \n",
       "4  1.15990  "
      ]
     },
     "execution_count": 2,
     "metadata": {},
     "output_type": "execute_result"
    }
   ],
   "source": [
    "data.head()"
   ]
  },
  {
   "cell_type": "code",
   "execution_count": 3,
   "metadata": {},
   "outputs": [],
   "source": [
    "x = data.iloc[:,3]"
   ]
  },
  {
   "cell_type": "markdown",
   "metadata": {},
   "source": [
    "I will now convert this non UTC time to epoch time, like in the project."
   ]
  },
  {
   "cell_type": "code",
   "execution_count": 4,
   "metadata": {},
   "outputs": [],
   "source": [
    "from datetime import datetime \n",
    "from calendar import timegm\n",
    "import time"
   ]
  },
  {
   "cell_type": "code",
   "execution_count": 5,
   "metadata": {},
   "outputs": [],
   "source": [
    "time_series = []\n",
    "epoch_times = []\n",
    "\n",
    "for m in x:\n",
    "    i = m[:19]\n",
    "    i.rstrip()\n",
    "    i.lstrip()\n",
    "    myTime = datetime.strptime(i, \"%Y-%m-%d %H:%M:%S\")\n",
    "    epoch_times.append(timegm(myTime.timetuple()))\n"
   ]
  },
  {
   "cell_type": "markdown",
   "metadata": {},
   "source": [
    "Generating a series of ticks for the strategy "
   ]
  },
  {
   "cell_type": "code",
   "execution_count": 6,
   "metadata": {},
   "outputs": [],
   "source": [
    "b = data.iloc[:,4]\n",
    "a = data.iloc[:,5]\n",
    "\n",
    "bids = []\n",
    "bids = b\n",
    "asks = []\n",
    "asks = a\n",
    "prices = []\n",
    "for i in range(len(bids)):\n",
    "    prices.append(bids[i])\n",
    "    prices.append(asks[i])\n",
    "\n",
    "for i in range(len(prices)):\n",
    "    prices[i] = (float)('%.5f'%(prices[i]))\n",
    "\n"
   ]
  },
  {
   "cell_type": "markdown",
   "metadata": {},
   "source": [
    "Appending epoch times for each bid and ask price. "
   ]
  },
  {
   "cell_type": "code",
   "execution_count": 7,
   "metadata": {},
   "outputs": [],
   "source": [
    "epochs = []\n",
    "for i in range(len(epoch_times)):\n",
    "    epochs.append((int)(epoch_times[i]))\n",
    "    epochs.append((int)(epoch_times[i]))"
   ]
  },
  {
   "cell_type": "markdown",
   "metadata": {},
   "source": [
    "Calculating the 5 minute moving average and 20 minute moving average. Also generating respective trade signals when it these two curves cross each other. "
   ]
  },
  {
   "cell_type": "code",
   "execution_count": 8,
   "metadata": {
    "scrolled": false
   },
   "outputs": [
    {
     "name": "stdout",
     "output_type": "stream",
     "text": [
      "Bought at time: 1535907983\tPNL at this time is: -115950.0\n",
      "\n",
      "Sold at time: 1535908124\tPNL at this time is: 30.0\n",
      "\n",
      "Bought at time: 1535908127\tPNL at this time is: -115922.00000000001\n",
      "\n",
      "Sold at time: 1535908127\tPNL at this time is: 57.99999999998545\n",
      "\n",
      "Bought at time: 1535908158\tPNL at this time is: -115933.00000000001\n",
      "\n",
      "Sold at time: 1535908684\tPNL at this time is: 25.999999999970896\n",
      "\n",
      "Profit from strategy: 26\n"
     ]
    }
   ],
   "source": [
    "from collections import deque\n",
    "q5 = deque()\n",
    "q20 = deque()\n",
    "e5 = deque()\n",
    "e20 = deque()\n",
    "total5 = 0\n",
    "total20 = 0\n",
    "pnl = 0\n",
    "MA5 = []\n",
    "MA20 = []\n",
    "buy = True\n",
    "sell = True\n",
    "for i in range(100):\n",
    "    #queue is empty case\n",
    "    if(len(q5) == 0):\n",
    "        q5.append(prices[i])\n",
    "        e5.append(epochs[i])\n",
    "        total5 += prices[i]\n",
    "    #Check if the window is greater than 5 minutes\n",
    "    else:\n",
    "        if(epochs[i] - e5[0] > 300):\n",
    "            total5 -= q5[0]\n",
    "            q5.popleft()\n",
    "            e5.popleft()\n",
    "        q5.append(prices[i])\n",
    "        e5.append(epochs[i])\n",
    "        total5 += prices[i]\n",
    "    #Queue is empty case\n",
    "    if(len(q20) == 0):\n",
    "        q20.append(prices[i])\n",
    "        e20.append(epochs[i])\n",
    "        total20 += prices[i]\n",
    "    #Check if the window is greater than 20 minutes\n",
    "    else:\n",
    "        if(epochs[i] - e20[0] > 1200):\n",
    "            total20 -= q20[0]\n",
    "            q20.popleft()\n",
    "            e20.popleft()\n",
    "        q20.append(prices[i])\n",
    "        e20.append(epochs[i])\n",
    "        total20 += prices[i]\n",
    "    MA5.append(total5/len(q5))\n",
    "    MA20.append(total20/len(q20))\n",
    "    if(total20/len(q20) <  total5/len(q5)):\n",
    "        if(i % 2 == 0 and buy):\n",
    "            pnl -= ((prices[i] * 100000))\n",
    "            print(\"Bought at time: \"+str(epochs[i])+\"\\t\"+\"PNL at this time is: \"+str(pnl)+\"\\n\")\n",
    "            buy = False\n",
    "            sell = True\n",
    "    if(total20/len(q20) >  total5/len(q5)):\n",
    "        if(i % 2 == 1 and sell):\n",
    "            pnl += ((prices[i] * 100000))\n",
    "            print(\"Sold at time: \"+str(epochs[i])+\"\\t\"+\"PNL at this time is: \"+str(pnl)+\"\\n\")\n",
    "            buy = True\n",
    "            sell = False\n",
    "print(\"Profit from strategy: \" + str(round(pnl)))"
   ]
  },
  {
   "cell_type": "markdown",
   "metadata": {},
   "source": [
    "The value of PNL obtained above is exactly the same as the strategy implemented in the project. Furthermore, as expected the timings of the trade signals also match."
   ]
  },
  {
   "cell_type": "markdown",
   "metadata": {},
   "source": [
    "Now I shall plot the 5 minute moving average and the 20 minute moving average with time on X axis depicting when the two curves cross each other. "
   ]
  },
  {
   "cell_type": "code",
   "execution_count": 9,
   "metadata": {},
   "outputs": [],
   "source": [
    "import matplotlib.pyplot as plt"
   ]
  },
  {
   "cell_type": "code",
   "execution_count": 10,
   "metadata": {},
   "outputs": [
    {
     "data": {
      "image/png": "[encoded data removed]",
      "text/plain": [
       "<Figure size 432x288 with 1 Axes>"
      ]
     },
     "metadata": {
      "needs_background": "light"
     },
     "output_type": "display_data"
    }
   ],
   "source": [
    "plt.plot(epochs[:100],MA5,'r') #5 minute moving averages\n",
    "plt.plot(epochs[:100],MA20,'g') #20 minute moving averages\n",
    "plt.show()"
   ]
  },
  {
   "cell_type": "markdown",
   "metadata": {},
   "source": [
    "Where the curves cross, a signal to trade is generated."
   ]
  }
 ],
 "metadata": {
  "kernelspec": {
   "display_name": "Python 3",
   "language": "python",
   "name": "python3"
  },
  "language_info": {
   "codemirror_mode": {
    "name": "ipython",
    "version": 3
   },
   "file_extension": ".py",
   "mimetype": "text/x-python",
   "name": "python",
   "nbconvert_exporter": "python",
   "pygments_lexer": "ipython3",
   "version": "3.7.4"
  }
 },
 "nbformat": 4,
 "nbformat_minor": 2
}
